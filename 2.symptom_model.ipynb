{
 "cells": [
  {
   "cell_type": "code",
   "execution_count": null,
   "metadata": {},
   "outputs": [],
   "source": [
    "# Importing necessary libraries\n",
    "import joblib\n",
    "import csv\n",
    "import pandas as pd\n",
    "import numpy as np\n",
    "from sklearn.tree import DecisionTreeClassifier\n",
    "from sklearn.neighbors import KNeighborsClassifier\n",
    "from sklearn.ensemble import RandomForestClassifier\n",
    "from sklearn.naive_bayes import GaussianNB\n",
    "from sklearn.ensemble import StackingClassifier\n",
    "from sklearn.linear_model import LogisticRegression\n",
    "from sklearn.metrics import accuracy_score\n",
    "from sklearn.model_selection import train_test_split"
   ]
  },
  {
   "cell_type": "code",
   "execution_count": null,
   "metadata": {},
   "outputs": [],
   "source": [
    "\n",
    "# Loading the dataset\n",
    "data = pd.read_csv(\"Training.csv\")\n",
    "df = pd.DataFrame(data)\n",
    "# Separating features (symptoms) and target (disease)\n",
    "X = data.iloc[:, :132].values\n",
    "y = data.iloc[:, 132].values\n",
    "# Splitting the dataset into training and testing sets\n",
    "X_train, X_test, y_train, y_test = train_test_split(X, y, test_size=0.20, random_state=35)"
   ]
  },
  {
   "cell_type": "code",
   "execution_count": null,
   "metadata": {},
   "outputs": [],
   "source": [
    "# Creating 4 different base classifiers\n",
    "dt = DecisionTreeClassifier(random_state=35)\n",
    "knn = KNeighborsClassifier(n_neighbors=5)\n",
    "rf = RandomForestClassifier(n_estimators=100, random_state=35)\n",
    "nb = GaussianNB()\n",
    "\n",
    "# Fitting all 4 base classifiers on the training data\n",
    "dt.fit(X_train, y_train)\n",
    "knn.fit(X_train, y_train)\n",
    "rf.fit(X_train, y_train)\n",
    "nb.fit(X_train, y_train)\n",
    "\n",
    "\n",
    "# Set the classes_ attribute of the classifiers\n",
    "dt.classes_ = np.unique(y_train)\n",
    "knn.classes_ = np.unique(y_train)\n",
    "rf.classes_ = np.unique(y_train)\n",
    "nb.classes_ = np.unique(y_train)\n",
    "# Predicting the probabilities of the classes of the testing data using all 4 base classifiers\n",
    "dt_pred = dt.predict_proba(X_test)\n",
    "knn_pred = knn.predict_proba(X_test)\n",
    "rf_pred = rf.predict_proba(X_test)\n",
    "nb_pred = nb.predict_proba(X_test)"
   ]
  },
  {
   "cell_type": "code",
   "execution_count": null,
   "metadata": {},
   "outputs": [],
   "source": [
    "\n",
    "# Combining base model predictions using stacking ensemble method\n",
    "estimators = [('dt', dt), ('knn', knn), ('rf', rf), ('nb', nb)]\n",
    "sc = StackingClassifier(estimators=estimators, final_estimator=LogisticRegression())\n",
    "sc.fit(X_train, y_train)\n",
    "sc.classes_ = np.unique(y_train)\n",
    "sc_pred = sc.predict_proba(X_test)\n",
    "# Taking the average of the probabilities of the classes for each classifier as the final prediction\n",
    "hybrid_pred = (dt_pred + knn_pred + rf_pred + nb_pred + sc_pred) / 5\n",
    "# Converting probabilities to class labels\n",
    "hybrid_pred = [max(range(len(pred)), key=pred.__getitem__) for pred in hybrid_pred]\n",
    "# Map the class labels to their corresponding values using the classes_ attribute\n",
    "hybrid_pred = [sc.classes_[i] for i in hybrid_pred]\n",
    "# Calculating the accuracy of the hybrid model\n",
    "accuracy = accuracy_score(y_test, hybrid_pred)\n",
    "print(\"Accuracy of the hybrid model:\", accuracy)\n",
    "\n"
   ]
  },
  {
   "cell_type": "code",
   "execution_count": null,
   "metadata": {},
   "outputs": [],
   "source": [
    "# Save the hybrid model to a file\n",
    "filename = 'hybrid_model.joblib'\n",
    "joblib.dump(sc, filename)"
   ]
  },
  {
   "cell_type": "code",
   "execution_count": null,
   "metadata": {},
   "outputs": [],
   "source": [
    "# Load the trained hybrid model\n",
    "import joblib\n",
    "hybrid_model = joblib.load('hybrid_model.joblib')\n",
    "\n",
    "\n",
    "indices = [i for i in range(132)]\n",
    "symptoms = df.columns.values[:-1]\n",
    "dictionary = dict(zip(symptoms, indices))\n",
    "symptom=['blood_in_sputum','swelled_lymph_nodes','puffy_face_and_eyes','mild_fever','skin_rash']\n",
    "user_input_symptoms = symptom\n",
    "user_input_label = [0 for i in range(132)]\n",
    "for i in user_input_symptoms:\n",
    "    idx = dictionary[i]\n",
    "    user_input_label[idx] = 1\n",
    "\n",
    "user_input_label = np.array(user_input_label)\n",
    "user_input_label = user_input_label.reshape((-1, 1)).transpose()\n",
    "\n",
    "\n",
    "# Prepare the input data\n",
    "custom_input = user_input_label\n",
    "\n",
    "# Predict the probabilities of the classes for the input data using all the base classifiers and the stacking ensemble method\n",
    "dt_prob = hybrid_model.named_estimators_['dt'].predict_proba(custom_input)\n",
    "knn_prob = hybrid_model.named_estimators_['knn'].predict_proba(custom_input)\n",
    "rf_prob = hybrid_model.named_estimators_['rf'].predict_proba(custom_input)\n",
    "nb_prob = hybrid_model.named_estimators_['nb'].predict_proba(custom_input)\n",
    "sc_prob = hybrid_model.final_estimator_.predict_proba(np.concatenate([dt_prob, knn_prob, rf_prob, nb_prob], axis=1))\n",
    "\n",
    "# to get prediction on individual classifiers in the model\n",
    "class_index = hybrid_model.named_estimators_['dt'].predict(custom_input)\n",
    "class_name=hybrid_model.classes_[int(class_index)]\n",
    "print(class_name)\n",
    "\n",
    "# Take the average of the probabilities of the classes for each classifier as the final prediction\n",
    "hybrid_prob = (dt_prob + knn_prob + rf_prob + nb_prob + sc_prob) / 5\n",
    "\n",
    "# Convert the final probabilities to class labels by mapping the class labels to their corresponding values using the classes_ attribute of the stacking classifier\n",
    "hybrid_pred = [hybrid_model.classes_[i] for i in hybrid_prob.argmax(axis=1)]\n",
    "\n",
    "# Print the final disease prediction for the custom input\n",
    "print(\"The final disease prediction is:\", hybrid_pred[0])\n"
   ]
  }
 ],
 "metadata": {
  "kernelspec": {
   "display_name": ".venv",
   "language": "python",
   "name": "python3"
  },
  "language_info": {
   "codemirror_mode": {
    "name": "ipython",
    "version": 3
   },
   "file_extension": ".py",
   "mimetype": "text/x-python",
   "name": "python",
   "nbconvert_exporter": "python",
   "pygments_lexer": "ipython3",
   "version": "3.10.11"
  },
  "orig_nbformat": 4
 },
 "nbformat": 4,
 "nbformat_minor": 2
}
