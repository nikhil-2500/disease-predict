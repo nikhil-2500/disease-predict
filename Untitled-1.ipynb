{
 "cells": [
  {
   "cell_type": "code",
   "execution_count": null,
   "metadata": {},
   "outputs": [],
   "source": [
    "import csv\n",
    "import pandas as pd\n",
    "import numpy as np"
   ]
  },
  {
   "cell_type": "code",
   "execution_count": null,
   "metadata": {},
   "outputs": [],
   "source": [
    "# read in the CSV file and perform calculations to create the dictionary\n",
    "disease_symptom_prob = {}\n",
    "with open('top_5_Symptoms.csv') as csvfile:\n",
    "    reader = csv.reader(csvfile)\n",
    "    headers = next(reader)  # skip the header row\n",
    "    for row in reader:\n",
    "        disease=row[0]\n",
    "        for col in row[1:]:\n",
    "            symptom,value =col.split(': ')\n",
    "            symptom_prob = float(value.strip('%'))\n",
    "            \n",
    "            if disease not in disease_symptom_prob:\n",
    "                disease_symptom_prob[disease] = {}\n",
    "    \n",
    "            disease_symptom_prob[disease][symptom] = symptom_prob\n",
    "\n",
    "print(disease_symptom_prob['Tuberculosis'])\n",
    "\n",
    "            "
   ]
  },
  {
   "cell_type": "code",
   "execution_count": null,
   "metadata": {},
   "outputs": [],
   "source": [
    "# Load the trained hybrid model\n",
    "import joblib\n",
    "hybrid_model = joblib.load('hybrid_model.joblib')\n",
    "data = pd.read_csv(\"Testing.csv\")\n",
    "df = pd.DataFrame(data)\n",
    "indices = [i for i in range(132)]\n",
    "symptoms = df.columns.values[:-1]\n",
    "dictionary = dict(zip(symptoms, indices))\n",
    "symptom=['nodal_skin_eruptions','skin_rash','blood_in_sputum','swelled_lymph_nodes','breathlessness']\n",
    "user_input_symptoms = symptom\n",
    "user_input_label = [0 for i in range(132)]\n",
    "for i in user_input_symptoms:\n",
    "    idx = dictionary[i]\n",
    "    user_input_label[idx] = 1\n",
    "\n",
    "user_input_label = np.array(user_input_label)\n",
    "user_input_label = user_input_label.reshape((-1, 1)).transpose()\n",
    "\n",
    "\n",
    "# Prepare the input data\n",
    "custom_input = user_input_label\n",
    "\n",
    "# Predict the probabilities of the classes for the input data using all the base classifiers and the stacking ensemble method\n",
    "dt_prob = hybrid_model.named_estimators_['dt'].predict_proba(custom_input)\n",
    "knn_prob = hybrid_model.named_estimators_['knn'].predict_proba(custom_input)\n",
    "rf_prob = hybrid_model.named_estimators_['rf'].predict_proba(custom_input)\n",
    "nb_prob = hybrid_model.named_estimators_['nb'].predict_proba(custom_input)\n",
    "sc_prob = hybrid_model.final_estimator_.predict_proba(np.concatenate([dt_prob, knn_prob, rf_prob, nb_prob], axis=1))\n",
    "\n",
    "# Take the average of the probabilities of the classes for each classifier as the final prediction\n",
    "hybrid_prob = (dt_prob + knn_prob + rf_prob + nb_prob + sc_prob) / 5\n",
    "\n",
    "# Convert the final probabilities to class labels by mapping the class labels to their corresponding values using the classes_ attribute of the stacking classifier\n",
    "hybrid_pred = [hybrid_model.classes_[i] for i in hybrid_prob.argmax(axis=1)]\n",
    "\n",
    "# Print the final disease prediction for the custom input\n",
    "print(\"The final disease prediction is:\", hybrid_pred[0])\n"
   ]
  },
  {
   "cell_type": "code",
   "execution_count": null,
   "metadata": {},
   "outputs": [],
   "source": [
    "# to get prediction on individual classifiers in the model\n",
    "cn=[]\n",
    "class_index = hybrid_model.named_estimators_['dt'].predict(custom_input)\n",
    "class_name=hybrid_model.classes_[int(class_index)]\n",
    "cn.append(class_name)\n",
    "class_index = hybrid_model.named_estimators_['knn'].predict(custom_input)\n",
    "class_name=hybrid_model.classes_[int(class_index)]\n",
    "cn.append(class_name)\n",
    "class_index = hybrid_model.named_estimators_['rf'].predict(custom_input)\n",
    "class_name=hybrid_model.classes_[int(class_index)]\n",
    "cn.append(class_name)\n",
    "class_index = hybrid_model.named_estimators_['nb'].predict(custom_input)\n",
    "class_name=hybrid_model.classes_[int(class_index)]\n",
    "cn.append(class_name)\n",
    "class_name=hybrid_model.predict(custom_input)[0]\n",
    "cn.append(class_name)"
   ]
  },
  {
   "cell_type": "code",
   "execution_count": null,
   "metadata": {},
   "outputs": [],
   "source": [
    "cn.sort()\n",
    "name=cn[0]\n",
    "gt=0\n",
    "temp=0\n",
    "for a in range(0,cn.__len__()):\n",
    "    # if a==0 or cn[a]!=cn[a-1]:\n",
    "    temp=0\n",
    "    for b in symptom:\n",
    "        try:\n",
    "            temp+=disease_symptom_prob[cn[a]][b]\n",
    "            print(cn[a],b,disease_symptom_prob[cn[a]][b],temp)\n",
    "        except:\n",
    "            pass\n",
    "    if temp>gt:\n",
    "        if gt>100:          #for a secondary disease that also is present\n",
    "            gt=temp\n",
    "            name=cn[a]+\" & \"+name\n",
    "        else:\n",
    "            gt=temp\n",
    "            name=cn[a]\n",
    "print(\"The final disease prediction is:\", name)"
   ]
  }
 ],
 "metadata": {
  "kernelspec": {
   "display_name": ".venv",
   "language": "python",
   "name": "python3"
  },
  "language_info": {
   "codemirror_mode": {
    "name": "ipython",
    "version": 3
   },
   "file_extension": ".py",
   "mimetype": "text/x-python",
   "name": "python",
   "nbconvert_exporter": "python",
   "pygments_lexer": "ipython3",
   "version": "3.10.11"
  },
  "orig_nbformat": 4
 },
 "nbformat": 4,
 "nbformat_minor": 2
}
