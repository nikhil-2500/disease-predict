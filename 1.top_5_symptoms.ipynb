{
 "cells": [
  {
   "cell_type": "code",
   "execution_count": 1,
   "metadata": {},
   "outputs": [],
   "source": [
    "import csv\n",
    "from decimal import Decimal\n",
    "\n",
    "# create a dictionary to store the symptom counts for each disease\n",
    "disease_symptom_counts = {}\n"
   ]
  },
  {
   "cell_type": "code",
   "execution_count": 2,
   "metadata": {},
   "outputs": [],
   "source": [
    "# read in the CSV file\n",
    "with open('Training.csv') as csvfile:\n",
    "    reader = csv.reader(csvfile)\n",
    "    headers = next(reader)  # skip the header row\n",
    "    total_counts = {header: 0 for header in headers[:-1]}\n",
    "    for row in reader:\n",
    "        disease = row[-1]\n",
    "        symptoms = row[:-1]\n",
    "\n",
    "        # if the disease isn't already in the dictionary, add it\n",
    "        if disease not in disease_symptom_counts:\n",
    "            disease_symptom_counts[disease] = {}\n",
    "\n",
    "        # count the number of times each symptom appears for this disease\n",
    "        for i, symptom in enumerate(symptoms):\n",
    "            if symptom == '1':\n",
    "                if headers[i] not in disease_symptom_counts[disease]:\n",
    "                    disease_symptom_counts[disease][headers[i]] = 1\n",
    "                else:\n",
    "                    disease_symptom_counts[disease][headers[i]] += 1\n",
    "                total_counts[headers[i]] += 1\n"
   ]
  },
  {
   "cell_type": "code",
   "execution_count": 3,
   "metadata": {},
   "outputs": [],
   "source": [
    "# write the resulting dataset to a new CSV file\n",
    "with open('SymptomCounts.csv', 'w', newline='') as csvfile:\n",
    "    writer = csv.writer(csvfile)\n",
    "    writer.writerow(headers)\n",
    "    for disease, symptom_counts in disease_symptom_counts.items():\n",
    "        row = [symptom_counts.get(header, 0) for header in headers[:-1]] + [disease]\n",
    "        writer.writerow(row)"
   ]
  },
  {
   "cell_type": "code",
   "execution_count": 4,
   "metadata": {},
   "outputs": [],
   "source": [
    "# calculate percentages and store in a new dictionary\n",
    "disease_symptom_percentages = {}\n",
    "for disease, symptom_counts in disease_symptom_counts.items():\n",
    "    disease_symptom_percentages[disease] = {}\n",
    "    for symptom, count in symptom_counts.items():\n",
    "        percentage = (count / total_counts[symptom]) * 100\n",
    "        disease_symptom_percentages[disease][symptom] = percentage\n",
    "\n",
    "# print out the resulting dataset and write to a CSV file\n",
    "with open('SymptomCounts%.csv', 'w', newline='') as csvfile:\n",
    "    writer = csv.writer(csvfile)\n",
    "    writer.writerow(headers)\n",
    "    for disease, symptom_percentages in disease_symptom_percentages.items():\n",
    "        row = [symptom_percentages.get(header, 0) for header in headers[:-1]]\n",
    "        row.append(disease)\n",
    "        writer.writerow(row)"
   ]
  },
  {
   "cell_type": "code",
   "execution_count": 5,
   "metadata": {},
   "outputs": [],
   "source": [
    "# read in the CSV file and perform calculations\n",
    "with open('SymptomCounts%.csv') as csvfile:\n",
    "    reader = csv.reader(csvfile)\n",
    "    headers = next(reader)  # skip the header row\n",
    "    data = []\n",
    "    for row in reader:\n",
    "        symptom_counts = {headers[i]: float(row[i]) for i in range(len(headers) - 1)}\n",
    "        disease = row[-1]\n",
    "        # calculate the total count of symptoms for all diseases\n",
    "        total_symptom_count = sum(symptom_counts.values())\n",
    "\n",
    "        # calculate the percentage of each symptom count compared to the total count of symptoms\n",
    "        symptom_percentages = {symptom: round(count, 1) for symptom, count in symptom_counts.items()}\n",
    "                \n",
    "        # get the 5 main symptoms for this disease\n",
    "        main_symptoms = sorted(symptom_percentages.items(), key=lambda x: x[1], reverse=True)[:5]\n",
    "        other_symptoms = []\n",
    "        # Check if any other symptoms have percentage greater than 80 and not already in main symptoms\n",
    "        for symptom, percentage in symptom_percentages.items():\n",
    "            if percentage > 80 and symptom not in [s for s, _ in main_symptoms]:\n",
    "                other_symptoms.append((symptom, percentage))\n",
    "        # Add other symptoms to main symptoms if they exist\n",
    "        main_symptoms += other_symptoms\n",
    "        # add the results to the data list\n",
    "        symptoms_list = [f'{symptom}: {percentage}%' for symptom, percentage in main_symptoms]       \n",
    "        row_data = [disease] + symptoms_list\n",
    "        data.append(row_data)\n",
    "\n",
    "# write the new dataset into a csv file\n",
    "with open('top_5_Symptoms.csv', 'w', newline='') as csvfile:\n",
    "    writer = csv.writer(csvfile)\n",
    "    writer.writerow(['Total Symptoms'] + ['Top Symptom ' + str(i+1) for i in range(5)])\n",
    "    for row in data:\n",
    "        writer.writerow(row)"
   ]
  },
  {
   "cell_type": "code",
   "execution_count": 6,
   "metadata": {},
   "outputs": [
    {
     "name": "stdout",
     "output_type": "stream",
     "text": [
      "{'Fungal infection': {'nodal_skin_eruptions': 100.0, 'dischromic _patches': 100.0, 'itching': 15.9, 'skin_rash': 13.7, 'continuous_sneezing': 0.0}, 'Allergy': {'shivering': 100.0, 'watering_from_eyes': 100.0, 'continuous_sneezing': 48.6, 'chills': 13.5, 'itching': 0.0}, 'GERD': {'ulcers_on_tongue': 100.0, 'stomach_pain': 51.4, 'acidity': 48.6, 'cough': 20.2, 'chest_pain': 16.4}, 'Chronic cholestasis': {'itching': 16.8, 'yellowing_of_eyes': 14.0, 'yellowish_skin': 12.5, 'abdominal_pain': 11.0, 'nausea': 9.9}, 'Drug Reaction': {'spotting_ urination': 100.0, 'burning_micturition': 50.0, 'stomach_pain': 48.6, 'itching': 16.8, 'skin_rash': 13.7}, 'Peptic ulcer diseae': {'passage_of_gases': 100.0, 'internal_itching': 100.0, 'indigestion': 48.6, 'abdominal_pain': 11.0, 'loss_of_appetite': 9.4}, 'AIDS': {'muscle_wasting': 100.0, 'patches_in_throat': 100.0, 'extra_marital_contacts': 100.0, 'high_fever': 8.4, 'itching': 0.0}, 'Diabetes ': {'irregular_sugar_level': 100.0, 'increased_appetite': 100.0, 'polyuria': 100.0, 'restlessness': 50.0, 'obesity': 50.0}, 'Gastroenteritis': {'sunken_eyes': 100.0, 'dehydration': 100.0, 'diarrhoea': 20.2, 'vomiting': 5.6, 'itching': 0.0}, 'Bronchial Asthma': {'mucoid_sputum': 100.0, 'family_history': 50.0, 'breathlessness': 25.3, 'cough': 19.1, 'high_fever': 8.4}, 'Hypertension ': {'lack_of_concentration': 100.0, 'loss_of_balance': 33.3, 'dizziness': 32.1, 'chest_pain': 15.5, 'headache': 9.5}, 'Migraine': {'visual_disturbances': 100.0, 'acidity': 51.4, 'indigestion': 51.4, 'stiff_neck': 50.0, 'depression': 48.7}, 'Cervical spondylosis': {'weakness_in_limbs': 100.0, 'neck_pain': 50.0, 'back_pain': 47.4, 'dizziness': 33.9, 'loss_of_balance': 33.3}, 'Paralysis (brain hemorrhage)': {'weakness_of_one_body_side': 100.0, 'altered_sensorium': 100.0, 'headache': 9.5, 'vomiting': 5.6, 'itching': 0.0}, 'Jaundice': {'weight_loss': 25.0, 'dark_urine': 20.0, 'itching': 16.8, 'yellowish_skin': 12.5, 'abdominal_pain': 11.0}, 'Malaria': {'muscle_pain': 25.3, 'diarrhoea': 19.1, 'sweating': 16.8, 'chills': 14.3, 'headache': 10.1}, 'Chicken pox': {'red_spots_over_body': 51.3, 'swelled_lymph_nodes': 32.8, 'mild_fever': 32.2, 'lethargy': 25.0, 'malaise': 17.1}, 'Dengue': {'pain_behind_the_eyes': 100.0, 'back_pain': 52.6, 'red_spots_over_body': 48.7, 'muscle_pain': 24.1, 'joint_pain': 16.7}, 'Typhoid': {'toxic_look_(typhos)': 100.0, 'belly_pain': 100.0, 'constipation': 50.0, 'diarrhoea': 20.2, 'chills': 15.0}, 'hepatitis A': {'mild_fever': 33.9, 'muscle_pain': 25.3, 'diarrhoea': 20.2, 'dark_urine': 20.0, 'joint_pain': 16.7}, 'Hepatitis B': {'yellow_urine': 100.0, 'receiving_blood_transfusion': 100.0, 'receiving_unsterile_injections': 100.0, 'lethargy': 25.0, 'dark_urine': 20.0}, 'Hepatitis C': {'family_history': 50.0, 'yellowing_of_eyes': 13.2, 'yellowish_skin': 12.5, 'nausea': 9.9, 'loss_of_appetite': 9.9}, 'Hepatitis D': {'dark_urine': 20.0, 'joint_pain': 16.7, 'yellowing_of_eyes': 14.0, 'yellowish_skin': 12.5, 'abdominal_pain': 11.0}, 'Hepatitis E': {'acute_liver_failure': 100.0, 'coma': 100.0, 'stomach_bleeding': 100.0, 'dark_urine': 20.0, 'joint_pain': 16.7}, 'Alcoholic hepatitis': {'fluid_overload': 100.0, 'swelling_of_stomach': 100.0, 'distention_of_abdomen': 100.0, 'history_of_alcohol_consumption': 100.0, 'yellowish_skin': 12.5}, 'Tuberculosis': {'blood_in_sputum': 100.0, 'swelled_lymph_nodes': 34.5, 'mild_fever': 33.9, 'phlegm': 33.9, 'breathlessness': 25.3}, 'Common Cold': {'throat_irritation': 100.0, 'redness_of_eyes': 100.0, 'sinus_pressure': 100.0, 'runny_nose': 100.0, 'congestion': 100.0, 'loss_of_smell': 100.0}, 'Pneumonia': {'rusty_sputum': 100.0, 'fast_heart_rate': 51.3, 'phlegm': 32.2, 'breathlessness': 25.3, 'cough': 20.2}, 'Dimorphic hemmorhoids(piles)': {'pain_during_bowel_movements': 100.0, 'pain_in_anal_region': 100.0, 'bloody_stool': 100.0, 'irritation_in_anus': 100.0, 'constipation': 50.0}, 'Heart attack': {'breathlessness': 24.0, 'chest_pain': 16.4, 'sweating': 15.9, 'vomiting': 5.6, 'itching': 0.0}, 'Varicose veins': {'cramps': 100.0, 'bruising': 100.0, 'swollen_legs': 100.0, 'swollen_blood_vessels': 100.0, 'prominent_veins_on_calf': 100.0}, 'Hypothyroidism': {'weight_gain': 100.0, 'cold_hands_and_feets': 100.0, 'puffy_face_and_eyes': 100.0, 'enlarged_thyroid': 100.0, 'brittle_nails': 100.0, 'swollen_extremeties': 100.0}, 'Hyperthyroidism': {'muscle_weakness': 51.3, 'mood_swings': 50.0, 'restlessness': 50.0, 'abnormal_menstruation': 50.0, 'fast_heart_rate': 48.7}, 'Hypoglycemia': {'anxiety': 100.0, 'drying_and_tingling_lips': 100.0, 'slurred_speech': 100.0, 'palpitations': 100.0, 'blurred_and_distorted_vision': 33.3}, 'Osteoarthristis': {'knee_pain': 100.0, 'hip_joint_pain': 100.0, 'neck_pain': 50.0, 'swelling_joints': 50.0, 'painful_walking': 50.0}, 'Arthritis': {'movement_stiffness': 100.0, 'stiff_neck': 50.0, 'swelling_joints': 50.0, 'painful_walking': 50.0, 'muscle_weakness': 48.7}, '(vertigo) Paroymsal  Positional Vertigo': {'spinning_movements': 100.0, 'unsteadiness': 100.0, 'loss_of_balance': 33.3, 'headache': 10.1, 'nausea': 9.9}, 'Acne': {'pus_filled_pimples': 100.0, 'blackheads': 100.0, 'scurring': 100.0, 'skin_rash': 14.5, 'itching': 0.0}, 'Urinary tract infection': {'bladder_discomfort': 100.0, 'foul_smell_of urine': 100.0, 'continuous_feel_of_urine': 100.0, 'burning_micturition': 50.0, 'itching': 0.0}, 'Psoriasis': {'skin_peeling': 100.0, 'silver_like_dusting': 100.0, 'small_dents_in_nails': 100.0, 'inflammatory_nails': 100.0, 'joint_pain': 16.7}, 'Impetigo': {'blister': 100.0, 'red_sore_around_nose': 100.0, 'yellow_crust_ooze': 100.0, 'skin_rash': 14.5, 'high_fever': 7.5}}\n"
     ]
    }
   ],
   "source": [
    "# read in the CSV file and perform calculations\n",
    "disease_symptom_prob = {}\n",
    "with open('top_5_Symptoms.csv') as csvfile:\n",
    "    reader = csv.reader(csvfile)\n",
    "    headers = next(reader)  # skip the header row\n",
    "    for row in reader:\n",
    "        disease=row[0]\n",
    "        for col in row[1:]:\n",
    "            symptom,value =col.split(': ')\n",
    "            symptom_prob = float(value.strip('%'))\n",
    "            \n",
    "            if disease not in disease_symptom_prob:\n",
    "                disease_symptom_prob[disease] = {}\n",
    "    \n",
    "            disease_symptom_prob[disease][symptom] = symptom_prob\n",
    "\n",
    "print(disease_symptom_prob)\n",
    "\n",
    "            "
   ]
  }
 ],
 "metadata": {
  "kernelspec": {
   "display_name": ".venv",
   "language": "python",
   "name": "python3"
  },
  "language_info": {
   "codemirror_mode": {
    "name": "ipython",
    "version": 3
   },
   "file_extension": ".py",
   "mimetype": "text/x-python",
   "name": "python",
   "nbconvert_exporter": "python",
   "pygments_lexer": "ipython3",
   "version": "3.10.11"
  },
  "orig_nbformat": 4
 },
 "nbformat": 4,
 "nbformat_minor": 2
}
